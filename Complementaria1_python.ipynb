{
 "cells": [
  {
   "cell_type": "markdown",
   "metadata": {},
   "source": [
    "# 🚀 **Introducción a Python**\n",
    "\n",
    "### 🗂️ **Contenido del cuaderno**\n",
    "En este cuaderno, exploraremos los conceptos fundamentales de Python:\n",
    "1. **Variables y tipos de datos**\n",
    "2. **Estructuras de datos**\n",
    "3. **Control de flujo**\n",
    "4. **Funciones**\n",
    "5. **Manejo de errores y excepciones**\n",
    "6. **Introducción a librerías: NumPy, Pandas, Matplotlib, NetworkX**\n",
    "\n",
    "Cada sección incluirá explicaciones detalladas y ejemplos prácticos, muchos de los cuales estarán enfocados en áreas como logística, producción y transporte."
   ]
  },
  {
   "cell_type": "markdown",
   "metadata": {},
   "source": [
    "## 🛠️ **Declaración de variables**\n",
    "\n",
    "Las **variables** en Python son etiquetas que referencian objetos en memoria. Se pueden ver las variables como contenedores que almacenan datos temporales mientras el programa está en ejecución.\n",
    "\n",
    "### 📌 **Tipos de datos básicos**\n",
    "Python maneja varios tipos de datos primitivos que se pueden usar para diferentes propósitos:\n",
    "\n",
    "| Tipo de dato  | Descripción                                             | Ejemplo              |\n",
    "|---------------|---------------------------------------------------------|----------------------|\n",
    "| **int**       | Números enteros, positivos o negativos                  | `a = 42`             |\n",
    "| **float**     | Números decimales, con precisión flotante               | `b = 3.14`           |\n",
    "| **str**       | Cadenas de texto, secuencias de caracteres              | `c = \"Python\"`       |\n",
    "| **bool**      | Valores booleanos, verdadero (`True`) o falso (`False`) | `d = True`           |\n",
    "| **NoneType**  | Representa la ausencia de valor (`None`)                | `e = None`           |\n",
    "\n",
    "### 🔄 **Operaciones con variables**\n",
    "Una vez que se declara una variable, se puede realizar operaciones sobre ella o modificar su valor.\n",
    "\n",
    "#### 📝 **Ejemplos básicos:**"
   ]
  },
  {
   "cell_type": "code",
   "execution_count": null,
   "metadata": {},
   "outputs": [],
   "source": [
    "# Ejemplos de Variables\n",
    "# ---------------------\n",
    "entero = 42           # Variable de tipo entero\n",
    "decimal = 3.14159     # Variable de tipo float (decimal)\n",
    "cadena = \"Python\"     # Variable de tipo string (cadena de texto)\n",
    "booleano = True       # Variable de tipo booleano\n",
    "nulo = None           # Variable que representa la ausencia de valor\n",
    "\n",
    "# 🖨️ Mostrando los valores y tipos de las variables\n",
    "print(f\"Valor de 'entero': {entero} | Tipo: {type(entero)}\")\n",
    "print(f\"Valor de 'decimal': {decimal} | Tipo: {type(decimal)}\")\n",
    "print(f\"Valor de 'cadena': {cadena} | Tipo: {type(cadena)}\")\n",
    "print(f\"Valor de 'booleano': {booleano} | Tipo: {type(booleano)}\")\n",
    "print(f\"Valor de 'nulo': {nulo} | Tipo: {type(nulo)}\")"
   ]
  },
  {
   "cell_type": "markdown",
   "metadata": {},
   "source": [
    "### 🔄 Asignación múltiple y desempaquetado de variables\n",
    "\n",
    "En Python, se puede asignar múltiples variables en una sola línea de código, lo que puede ser útil para intercambiar valores o inicializar varias variables al mismo tiempo.\n",
    "\n",
    "#### Ejemplos:"
   ]
  },
  {
   "cell_type": "code",
   "execution_count": null,
   "metadata": {},
   "outputs": [],
   "source": [
    "# Asignación múltiple\n",
    "x, y, z = 10, 20.5, \"Python\"\n",
    "\n",
    "# Intercambio de valores\n",
    "a, b = 1, 2\n",
    "a, b = b, a\n",
    "\n",
    "print(f\"x: {x} | y: {y} | z: {z}\")\n",
    "print(f\"Intercambiados - a: {a} | b: {b}\")"
   ]
  },
  {
   "cell_type": "markdown",
   "metadata": {},
   "source": [
    "## 📋 **Listas**\n",
    "\n",
    "Las **listas** en Python son colecciones ordenadas y mutables de elementos. Son útiles para almacenar secuencias de elementos, como nombres de productos en un inventario o una serie de números.\n",
    "\n",
    "### 🔧 **Operaciones con listas:**\n",
    "\n",
    "Las listas soportan una variedad de operaciones como añadir, eliminar, y modificar elementos. También puedes utilizar bucles para iterar sobre una lista y realizar operaciones en cada elemento."
   ]
  },
  {
   "cell_type": "code",
   "execution_count": null,
   "metadata": {},
   "outputs": [],
   "source": [
    "# Ejemplo de Lista de Productos\n",
    "productos = [\"Laptop\", \"Teclado\", \"Ratón\", \"Monitor\", \"Impresora\"]"
   ]
  },
  {
   "cell_type": "markdown",
   "metadata": {},
   "source": [
    "La función `len()` se utiliza para conocer el tamaño de la lista, es decir, la cantidad de elementos que contiene. "
   ]
  },
  {
   "cell_type": "code",
   "execution_count": null,
   "metadata": {},
   "outputs": [],
   "source": [
    "# Obtener la cantidad de productos\n",
    "cantidad_productos = len(productos)\n",
    "print(f\"Cantidad de productos en la lista: {cantidad_productos}\")"
   ]
  },
  {
   "cell_type": "markdown",
   "metadata": {},
   "source": [
    "Las listas en Python permiten acceder a sus elementos utilizando índices. El primer elemento se accede con el índice `0`, y el último elemento se puede acceder con el índice `-1`. \n"
   ]
  },
  {
   "cell_type": "code",
   "execution_count": null,
   "metadata": {},
   "outputs": [],
   "source": [
    "# Acceso a elementos\n",
    "print(f\"Primer producto: {productos[0]}\")\n",
    "print(f\"Último producto: {productos[-1]}\")"
   ]
  },
  {
   "cell_type": "markdown",
   "metadata": {},
   "source": [
    "Se puede modificar un elemento de la lista asignando un nuevo valor a un índice específico."
   ]
  },
  {
   "cell_type": "code",
   "execution_count": null,
   "metadata": {},
   "outputs": [],
   "source": [
    "# Modificación de elementos\n",
    "productos[1] = \"Teclado Mecánico\"\n",
    "print(f\"Lista después de la modificación: {productos}\")"
   ]
  },
  {
   "cell_type": "markdown",
   "metadata": {},
   "source": [
    "El método `append()` añade un nuevo elemento al final de la lista. "
   ]
  },
  {
   "cell_type": "code",
   "execution_count": null,
   "metadata": {},
   "outputs": [],
   "source": [
    "# Añadir un nuevo elemento\n",
    "productos.append(\"Tablet\")\n",
    "print(f\"Lista después de añadir un elemento: {productos}\")"
   ]
  },
  {
   "cell_type": "markdown",
   "metadata": {},
   "source": [
    "El método `remove()` se utiliza para eliminar la primera aparición de un elemento específico en la lista. "
   ]
  },
  {
   "cell_type": "code",
   "execution_count": null,
   "metadata": {},
   "outputs": [],
   "source": [
    "# Eliminar un producto\n",
    "productos.remove(\"Ratón\")\n",
    "print(f\"Lista después de eliminar un elemento: {productos}\")"
   ]
  },
  {
   "cell_type": "markdown",
   "metadata": {},
   "source": [
    "El método `insert()` permite insertar un elemento en una posición específica de la lista, desplazando los elementos existentes hacia la derecha. \n"
   ]
  },
  {
   "cell_type": "code",
   "execution_count": null,
   "metadata": {},
   "outputs": [],
   "source": [
    "# Insertar un producto en la segunda posición\n",
    "productos.insert(1, \"Teclado Inalámbrico\")\n",
    "print(f\"Lista después de la inserción: {productos}\")"
   ]
  },
  {
   "cell_type": "markdown",
   "metadata": {},
   "source": [
    "El slicing (`:`) se utiliza para acceder a un subconjunto de elementos en la lista. `productos[1:4]` devuelve una sublista que contiene los elementos desde el segundo hasta el cuarto (sin incluir el cuarto). Esto es útil para trabajar con partes específicas de la lista.\n"
   ]
  },
  {
   "cell_type": "code",
   "execution_count": null,
   "metadata": {},
   "outputs": [],
   "source": [
    "# Acceder a una sublista (del segundo al cuarto producto)\n",
    "sublista = productos[1:4]\n",
    "print(f\"Sublista: {sublista}\")"
   ]
  },
  {
   "cell_type": "markdown",
   "metadata": {},
   "source": [
    "\n",
    "Un bucle `for` permite iterar sobre todos los elementos de la lista y realizar una acción para cada uno de ellos. "
   ]
  },
  {
   "cell_type": "code",
   "execution_count": null,
   "metadata": {},
   "outputs": [],
   "source": [
    "# Iteración sobre una lista\n",
    "for producto in productos:\n",
    "    print(f\"Producto en inventario: {producto}\")"
   ]
  },
  {
   "cell_type": "markdown",
   "metadata": {},
   "source": [
    "## 🔒 **Tuplas**\n",
    "\n",
    "Las **tuplas** son similares a las listas, pero con una diferencia clave: son inmutables. Una vez creadas, sus elementos no pueden ser modificados. Esto es útil cuando se necesitan estructuras de datos constantes, como coordenadas geográficas o dimensiones de un producto.\n",
    "\n",
    "### 🛠️ **Operaciones básicas con tuplas**\n",
    "Aunque no se pueden modificar, es posible acceder a sus elementos y desempacar sus valores en variables individuales.\n",
    "\n",
    "#### 📝 **Ejemplos prácticos:**"
   ]
  },
  {
   "cell_type": "markdown",
   "metadata": {},
   "source": [
    "Una tupla es una colección de elementos ordenados e inmutables. Se define utilizando paréntesis `()`. En el ejemplo, `dimensiones_paquete = (10, 20, 30)` crea una tupla que representa las dimensiones de un paquete (Largo, Ancho, Alto en cm).\n"
   ]
  },
  {
   "cell_type": "code",
   "execution_count": null,
   "metadata": {},
   "outputs": [],
   "source": [
    "# Crear una tupla de dimensiones\n",
    "dimensiones_paquete = (10, 20, 30)  # Largo, Ancho, Alto en cm\n",
    "print(f\"Dimensiones del paquete: {dimensiones_paquete}\")"
   ]
  },
  {
   "cell_type": "markdown",
   "metadata": {},
   "source": [
    "Al igual que en las listas, los elementos de una tupla se pueden acceder utilizando índices. El primer elemento tiene el índice `0`, el segundo `1`, y así sucesivamente. En el ejemplo, `dimensiones_paquete[0]` accede al largo, `dimensiones_paquete[1]` al ancho, y `dimensiones_paquete[2]` al alto del paquete.\n"
   ]
  },
  {
   "cell_type": "code",
   "execution_count": null,
   "metadata": {},
   "outputs": [],
   "source": [
    "# Acceso a elementos utilizando índices\n",
    "print(f\"Largo: {dimensiones_paquete[0]} cm | Ancho: {dimensiones_paquete[1]} cm | Alto: {dimensiones_paquete[2]} cm\")"
   ]
  },
  {
   "cell_type": "markdown",
   "metadata": {},
   "source": [
    "Las tuplas son inmutables, lo que significa que no se pueden modificar después de su creación. Cualquier intento de cambiar un elemento generará un error. En el ejemplo, la línea `dimensiones_paquete[0] = 15` está comentada porque, si se descomenta, causará un error de tipo.\n"
   ]
  },
  {
   "cell_type": "code",
   "execution_count": null,
   "metadata": {},
   "outputs": [],
   "source": [
    "# Intento de modificación (esto generará un error)\n",
    "dimensiones_paquete[0] = 15  # Descomentar esta línea para ver el error"
   ]
  },
  {
   "cell_type": "markdown",
   "metadata": {},
   "source": [
    "El desempaquetado permite asignar cada elemento de una tupla a una variable independiente. En el ejemplo, `largo, ancho, alto = dimensiones_paquete` asigna los valores de la tupla a las variables `largo`, `ancho`, y `alto` respectivamente."
   ]
  },
  {
   "cell_type": "code",
   "execution_count": null,
   "metadata": {},
   "outputs": [],
   "source": [
    "# Desempaquetar los elementos de una tupla en variables individuales\n",
    "largo, ancho, alto = dimensiones_paquete\n",
    "print(f\"Desempaquetado - Largo: {largo} cm | Ancho: {ancho} cm | Alto: {alto} cm\")"
   ]
  },
  {
   "cell_type": "markdown",
   "metadata": {},
   "source": [
    "Se puede realizar operaciones matemáticas utilizando los elementos de una tupla. En el ejemplo, `volumen = dimensiones_paquete[0] * dimensiones_paquete[1] * dimensiones_paquete[2]` calcula el volumen del paquete multiplicando el largo, ancho y alto."
   ]
  },
  {
   "cell_type": "code",
   "execution_count": null,
   "metadata": {},
   "outputs": [],
   "source": [
    "# Cálculo de volumen del paquete (Largo x Ancho x Alto)\n",
    "volumen = dimensiones_paquete[0] * dimensiones_paquete[1] * dimensiones_paquete[2]\n",
    "print(f\"Volumen del paquete: {volumen} cm³\")"
   ]
  },
  {
   "cell_type": "markdown",
   "metadata": {},
   "source": [
    "#### **Métodos de tuplas**\n",
    "El método `count()` se utiliza para contar cuántas veces aparece un elemento específico en una tupla. En el ejemplo, `tupla.count(1)` devuelve el número de veces que el número `1` aparece en la tupla.\n"
   ]
  },
  {
   "cell_type": "code",
   "execution_count": null,
   "metadata": {},
   "outputs": [],
   "source": [
    "# Crear una tupla con elementos repetidos\n",
    "tupla = (1, 2, 3, 1, 4, 1)\n",
    "\n",
    "# Contar cuántas veces aparece un elemento\n",
    "repeticiones = tupla.count(1)\n",
    "print(f\"El número 1 aparece {repeticiones} veces en la tupla.\")"
   ]
  },
  {
   "cell_type": "markdown",
   "metadata": {},
   "source": [
    "El método `index()` devuelve el índice de la primera aparición de un elemento específico en la tupla. Si el elemento no está presente, genera un error. En el ejemplo, `tupla.index(4)` devuelve el índice en el que se encuentra el número `4`.\n"
   ]
  },
  {
   "cell_type": "code",
   "execution_count": null,
   "metadata": {},
   "outputs": [],
   "source": [
    "# Encontrar el índice de la primera aparición de un elemento\n",
    "indice = tupla.index(4)\n",
    "print(f\"El número 4 se encuentra en el índice {indice}.\")"
   ]
  },
  {
   "cell_type": "markdown",
   "metadata": {},
   "source": [
    "#### **Conversión entre listas y tuplas**\n",
    "Se puede convertir una lista en una tupla utilizando la función `tuple()`."
   ]
  },
  {
   "cell_type": "code",
   "execution_count": null,
   "metadata": {},
   "outputs": [],
   "source": [
    "# Convertir una lista en tupla\n",
    "lista = [10, 20, 30]\n",
    "tupla_convertida = tuple(lista)\n",
    "print(f\"Tupla convertida: {tupla_convertida}\")"
   ]
  },
  {
   "cell_type": "markdown",
   "metadata": {},
   "source": [
    "De manera similar, se puede convertir una tupla en una lista utilizando la función `list()`"
   ]
  },
  {
   "cell_type": "code",
   "execution_count": null,
   "metadata": {},
   "outputs": [],
   "source": [
    "# Convertir una tupla en lista\n",
    "lista_convertida = list(tupla_convertida)\n",
    "print(f\"Lista convertida: {lista_convertida}\")\n"
   ]
  },
  {
   "cell_type": "markdown",
   "metadata": {},
   "source": [
    "**Tuplas en diccionarios**\n",
    "\n",
    "Las tuplas, al ser inmutables, se pueden utilizar como claves en diccionarios, lo cual no es posible con las listas"
   ]
  },
  {
   "cell_type": "code",
   "execution_count": null,
   "metadata": {},
   "outputs": [],
   "source": [
    "# Diccionario que usa tuplas como claves\n",
    "distancias = {\n",
    "    (\"Ciudad A\", \"Ciudad B\"): 100,\n",
    "    (\"Ciudad A\", \"Ciudad C\"): 200,\n",
    "    (\"Ciudad B\", \"Ciudad C\"): 150\n",
    "}\n",
    "\n",
    "# Acceder a un valor utilizando una tupla como clave\n",
    "distancia_ab = distancias[(\"Ciudad A\", \"Ciudad B\")]\n",
    "print(f\"Distancia entre Ciudad A y Ciudad B: {distancia_ab} km\")"
   ]
  },
  {
   "cell_type": "markdown",
   "metadata": {},
   "source": [
    "## 🔗 **Conjuntos**\n",
    "\n",
    "Los **conjuntos** son colecciones no ordenadas de elementos únicos. Son útiles cuando necesitas garantizar que una colección de datos no tenga duplicados, o cuando necesitas realizar operaciones matemáticas como unión, intersección y diferencia.\n",
    "\n",
    "### 🛠️ **Operaciones comunes con conjuntos**\n",
    "Los conjuntos soportan operaciones de conjunto como la unión (`union`), intersección (`intersection`), y diferencia (`difference`).\n",
    "\n",
    "#### 📝 **Ejemplos prácticos:**\n",
    "Se esta gestionando productos en promoción y se requiere asegurar que no haya duplicados en las ofertas."
   ]
  },
  {
   "cell_type": "code",
   "execution_count": null,
   "metadata": {},
   "outputs": [],
   "source": [
    "# Ejemplo de Conjunto\n",
    "productos_unicos = {\"Laptop\", \"Teclado\", \"Monitor\", \"Teclado\", \"Laptop\"}"
   ]
  },
  {
   "cell_type": "markdown",
   "metadata": {},
   "source": [
    "Un conjunto en Python es una colección desordenada de elementos únicos. Si se añade elementos duplicados al conjunto, estos se eliminarán automáticamente."
   ]
  },
  {
   "cell_type": "code",
   "execution_count": null,
   "metadata": {},
   "outputs": [],
   "source": [
    "# Conjunto elimina los duplicados\n",
    "print(f\"Productos únicos en inventario: {productos_unicos}\")"
   ]
  },
  {
   "cell_type": "markdown",
   "metadata": {},
   "source": [
    "La operación de unión en conjuntos combina todos los elementos de dos conjuntos, eliminando duplicados. El método `union()` se utiliza para realizar esta operación."
   ]
  },
  {
   "cell_type": "code",
   "execution_count": null,
   "metadata": {},
   "outputs": [],
   "source": [
    "# Operaciones de conjuntos\n",
    "oferta_semanal = {\"Monitor\", \"Tablet\"}\n",
    "union = productos_unicos.union(oferta_semanal)"
   ]
  },
  {
   "cell_type": "markdown",
   "metadata": {},
   "source": [
    "La operación de intersección en conjuntos devuelve los elementos comunes entre dos conjuntos. El método `intersection()` se utiliza para realizar esta operación."
   ]
  },
  {
   "cell_type": "code",
   "execution_count": null,
   "metadata": {},
   "outputs": [],
   "source": [
    "interseccion = productos_unicos.intersection(oferta_semanal)\n",
    "print(f\"Unión: {union} | Intersección: {interseccion}\")"
   ]
  },
  {
   "cell_type": "markdown",
   "metadata": {},
   "source": [
    "## 🗂️ **Diccionarios**\n",
    "\n",
    "Los **diccionarios** en Python son colecciones desordenadas de pares clave-valor. Cada clave es única y actúa como un identificador para su valor asociado. Los diccionarios son extremadamente útiles cuando necesitas realizar búsquedas rápidas, almacenar datos relacionados o representar entidades complejas como registros, catálogos, y más.\n",
    "\n",
    "### 🛠️ **Operaciones básicas con diccionarios**\n",
    "Es posible acceder a valores a través de sus claves, añadir o modificar pares clave-valor, y recorrer un diccionario para operar sobre sus elementos.\n",
    "\n",
    "#### 📝 **Ejemplos prácticos:**\n",
    "Al gestionar un sistema de e-commerce. Los diccionarios son perfectos para manejar catálogos de productos y sus respectivos precios."
   ]
  },
  {
   "cell_type": "code",
   "execution_count": null,
   "metadata": {},
   "outputs": [],
   "source": [
    "# Diccionario para manejar un catálogo de productos en un e-commerce\n",
    "catalogo = {\n",
    "    \"Laptop\": 1200.00,\n",
    "    \"Teclado Mecánico\": 75.50,\n",
    "    \"Mouse Óptico\": 25.99,\n",
    "    \"Monitor 4K\": 349.99\n",
    "}"
   ]
  },
  {
   "cell_type": "markdown",
   "metadata": {},
   "source": [
    "Para acceder al valor asociado a una clave específica, se utiliza la sintaxis `diccionario[clave]`."
   ]
  },
  {
   "cell_type": "code",
   "execution_count": null,
   "metadata": {},
   "outputs": [],
   "source": [
    "# Acceso a valores almacenados en un diccionario utilizando sus claves\n",
    "precio_laptop = catalogo[\"Laptop\"]\n",
    "print(f\"Precio de la Laptop: ${precio_laptop}\")"
   ]
  },
  {
   "cell_type": "markdown",
   "metadata": {},
   "source": [
    "Para añadir un nuevo par clave-valor a un diccionario, se asigna un valor a una nueva clave."
   ]
  },
  {
   "cell_type": "code",
   "execution_count": null,
   "metadata": {},
   "outputs": [],
   "source": [
    "# Agregar un nuevo producto al catálogo(añadir un nuevo par clave-valor)\n",
    "catalogo[\"Auriculares\"] = 89.99\n",
    "print(f\"Catálogo actualizado: {catalogo}\")"
   ]
  },
  {
   "cell_type": "markdown",
   "metadata": {},
   "source": [
    "Es posible modificar el valor asociado a una clave existente reasignándole un nuevo valor."
   ]
  },
  {
   "cell_type": "code",
   "execution_count": null,
   "metadata": {},
   "outputs": [],
   "source": [
    "# Actualizar precio de un producto(modificar valor)\n",
    "catalogo[\"Laptop\"] = 1150.00\n",
    "print(f\"Nuevo precio del Laptop: ${catalogo['Laptop']}\")"
   ]
  },
  {
   "cell_type": "markdown",
   "metadata": {},
   "source": [
    "La instrucción `del` se utiliza para eliminar un par clave-valor del diccionario."
   ]
  },
  {
   "cell_type": "code",
   "execution_count": null,
   "metadata": {},
   "outputs": [],
   "source": [
    "# Eliminar un producto del catálogo usando del\n",
    "del catalogo[\"Mouse Óptico\"]\n",
    "print(f\"Catálogo después de eliminar Mouse Óptico: {catalogo}\")"
   ]
  },
  {
   "cell_type": "markdown",
   "metadata": {},
   "source": [
    "El método `pop()` elimina un par clave-valor del diccionario y devuelve el valor asociado a la clave eliminada."
   ]
  },
  {
   "cell_type": "code",
   "execution_count": null,
   "metadata": {},
   "outputs": [],
   "source": [
    "# Eliminar y obtener el valor eliminado usando pop\n",
    "precio_auriculares = catalogo.pop(\"Auriculares\")\n",
    "print(f\"Auriculares eliminados, precio: ${precio_auriculares}\")\n",
    "print(f\"Catálogo actualizado: {catalogo}\")"
   ]
  },
  {
   "cell_type": "markdown",
   "metadata": {},
   "source": [
    "Es posible iterar sobre un diccionario utilizando el método `items()`, que devuelve pares clave-valor."
   ]
  },
  {
   "cell_type": "code",
   "execution_count": null,
   "metadata": {},
   "outputs": [],
   "source": [
    "# Imprimir el catálogo actualizado\n",
    "print(\"Catálogo de productos actualizado:\")\n",
    "for producto, precio in catalogo.items():\n",
    "    print(f\"Producto: {producto} | Precio: ${precio}\")"
   ]
  },
  {
   "cell_type": "markdown",
   "metadata": {},
   "source": [
    "## 🔄 **Control de flujo: Condicionales**\n",
    "\n",
    "Las **sentencias condicionales** permiten ejecutar diferentes bloques de código en función de si ciertas condiciones son verdaderas o falsas. Esto es fundamental para la toma de decisiones en un programa.\n",
    "\n",
    "### 🛠️ **Estructura de condicionales en Python**\n",
    "Python utiliza `if`, `elif`, y `else` para definir estructuras condicionales. La evaluación se realiza secuencialmente de arriba hacia abajo.\n",
    "- **`if`**: Evalúa una condición, y si es verdadera, ejecuta el bloque de código asociado.\n",
    "- **`elif`**: (opcional) Evalúa otra condición si la anterior fue falsa.\n",
    "- **`else`**: (opcional) Se ejecuta si ninguna de las condiciones anteriores fue verdadera.\n",
    "\n",
    "### 🔍 **Operadores lógicos en condicionales**\n",
    "\n",
    "Los **operadores lógicos** se utilizan para combinar múltiples condiciones:\n",
    "- **`and`**: Verdadero si ambas condiciones son verdaderas.\n",
    "- **`or`**: Verdadero si al menos una de las condiciones es verdadera.\n",
    "- **`not`**: Invierte el valor lógico de la condición.\n",
    "\n",
    "#### 📝 **Ejemplos prácticos:**\n",
    "Se esta administrando un almacén y se necesita verificar si es necesario reabastecer ciertos productos basándose en la cantidad disponible y la demanda."
   ]
  },
  {
   "cell_type": "code",
   "execution_count": null,
   "metadata": {},
   "outputs": [],
   "source": [
    "# Ejemplo de condicional con lógica aplicada a inventario\n",
    "cantidad_producto = 45\n",
    "demanda = 50\n",
    "\n",
    "if cantidad_producto < demanda and cantidad_producto > 0:\n",
    "    print(\"Reabastecimiento necesario, pero hay algo de stock.\")\n",
    "elif cantidad_producto == 0:\n",
    "    print(\"Stock agotado, urgente reabastecer.\")\n",
    "else:\n",
    "    print(\"Stock suficiente para cubrir la demanda.\")"
   ]
  },
  {
   "cell_type": "markdown",
   "metadata": {},
   "source": [
    "## 🔁 **Bucles**\n",
    "\n",
    "Los **bucles** permiten repetir un bloque de código varias veces. Python admite dos tipos principales de bucles: `for` y `while`.\n",
    "\n",
    "### 🛠️ **Bucle `for`**\n",
    "El bucle `for` itera sobre una secuencia (lista, tupla, string, etc.) o cualquier objeto iterable.\n",
    "\n",
    "#### 📝 **Ejemplos prácticos:**\n",
    "Es posible usar los bucles para recorrer una lista de camiones y verificar su disponibilidad antes de asignarlos a una ruta."
   ]
  },
  {
   "cell_type": "code",
   "execution_count": null,
   "metadata": {},
   "outputs": [],
   "source": [
    "# Ejemplo de Bucle for\n",
    "for i in range(1, 6):\n",
    "    print(f\"Camión número: {i}\")\n"
   ]
  },
  {
   "cell_type": "code",
   "execution_count": null,
   "metadata": {},
   "outputs": [],
   "source": [
    "# Lista de camiones y sus estados\n",
    "estado_camiones = [\"Disponible\", \"En Mantenimiento\", \"Disponible\", \"En Ruta\"]\n",
    "\n",
    "for i, estado in enumerate(estado_camiones, start=1):\n",
    "    if estado == \"Disponible\":\n",
    "        print(f\"Camión {i} está listo para asignar una ruta.\")"
   ]
  },
  {
   "cell_type": "markdown",
   "metadata": {},
   "source": [
    "### 🛠️ **Bucle `while`**\n",
    "El bucle `while` repite un bloque de código mientras una condición sea verdadera. Es útil cuando no se sabe cuántas veces se necesita repetir la ejecución.\n",
    "\n",
    "#### 📝 **Ejemplo básico de `while`:**\n",
    "Supongamos que se gestiona un sistema de pedidos en un almacén. Se puede utilizar un bucle para procesar pedidos mientras haya stock disponible."
   ]
  },
  {
   "cell_type": "code",
   "execution_count": null,
   "metadata": {},
   "outputs": [],
   "source": [
    "# Ejemplo de procesamiento de pedidos\n",
    "stock = 10\n",
    "pedidos = 3\n",
    "\n",
    "while pedidos > 0 and stock > 0:\n",
    "    stock -= 1\n",
    "    pedidos -= 1\n",
    "    print(f\"Pedido procesado. Quedan {stock} unidades en stock y {pedidos} pedidos por cumplir.\")\n",
    "\n",
    "if pedidos > 0:\n",
    "    print(f\"No se pudo cumplir {pedidos} pedido(s) debido a falta de stock.\")\n",
    "else:\n",
    "    print(\"Todos los pedidos han sido procesados.\")\n"
   ]
  },
  {
   "cell_type": "markdown",
   "metadata": {},
   "source": [
    "## 🔧 **Funciones**\n",
    "\n",
    "Las **funciones** permiten agrupar un conjunto de instrucciones bajo un nombre y reutilizarlas en diferentes partes del programa. Son fundamentales para organizar y modularizar el código.\n",
    "\n",
    "### 🛠️ **Estructura de una función en Python**\n",
    "Las funciones se definen usando la palabra clave `def`, seguida del nombre de la función, sus parámetros entre paréntesis, y el cuerpo de la función indentado."
   ]
  },
  {
   "cell_type": "code",
   "execution_count": null,
   "metadata": {},
   "outputs": [],
   "source": [
    "# Ejemplo básico de función\n",
    "def saludar(nombre):\n",
    "    return f\"Hola, {nombre}!\"\n",
    "\n",
    "# Llamada a la función\n",
    "mensaje = saludar(\"Carlos\")\n",
    "print(mensaje)"
   ]
  },
  {
   "cell_type": "markdown",
   "metadata": {},
   "source": [
    "### 🔄 **Parámetros y argumentos**\n",
    "Las funciones pueden aceptar múltiples parámetros. También se puede establecer valores por defecto para los parámetros, lo que hace que sean opcionales cuando se llama a la función."
   ]
  },
  {
   "cell_type": "code",
   "execution_count": null,
   "metadata": {},
   "outputs": [],
   "source": [
    "# Función con parámetros opcionales\n",
    "def presentar(nombre, edad=18):\n",
    "    print(f\"Nombre: {nombre} | Edad: {edad}\")\n",
    "\n",
    "# Llamadas a la función\n",
    "presentar(\"Laura\")  # Usa el valor por defecto para la edad\n",
    "presentar(\"Luis\", 25)  # Sobrescribe el valor por defecto\n"
   ]
  },
  {
   "cell_type": "markdown",
   "metadata": {},
   "source": [
    "### 📋 **Tipos de funciones**\n",
    "- **Funciones sin parámetros ni retorno**: Realizan una tarea y no devuelven nada.\n",
    "- **Funciones con parámetros pero sin retorno**: Realizan una tarea utilizando parámetros pero no devuelven nada.\n",
    "- **Funciones con parámetros y retorno**: Utilizan parámetros para procesar datos y devuelven un resultado.\n",
    "- **Funciones Lambda**: Son funciones anónimas de una sola línea, útiles para operaciones simples.\n",
    "\n",
    "#### 📝 **Ejemplo de función lambda:**\n"
   ]
  },
  {
   "cell_type": "code",
   "execution_count": null,
   "metadata": {},
   "outputs": [],
   "source": [
    "# Función lambda que calcula el doble de un número\n",
    "doble = lambda x: x * 2\n",
    "print(doble(5))"
   ]
  },
  {
   "cell_type": "markdown",
   "metadata": {},
   "source": [
    "#### 📝 **Ejemplos prácticos:**\n",
    "Se puede utilizar funciones para calcular costos de envío en función del peso del paquete y la distancia a la que se enviará."
   ]
  },
  {
   "cell_type": "code",
   "execution_count": null,
   "metadata": {},
   "outputs": [],
   "source": [
    "# Función para calcular el costo de envío\n",
    "def calcular_costo_envio(peso_kg, distancia_km):\n",
    "    tarifa_base = 5.00  # Tarifa base en USD\n",
    "    costo_por_km = 0.10  # Costo por kilómetro en USD\n",
    "    costo_por_kg = 0.50  # Costo por kilogramo en USD\n",
    "    costo_total = tarifa_base + (costo_por_km * distancia_km) + (costo_por_kg * peso_kg)\n",
    "    return costo_total\n",
    "\n",
    "# Calcular el costo de envío para un paquete de 10 kg a 200 km\n",
    "costo = calcular_costo_envio(10, 200)\n",
    "print(f\"El costo total de envío es: ${costo:.2f}\")"
   ]
  },
  {
   "cell_type": "markdown",
   "metadata": {},
   "source": [
    "## ⚠️ **Manejo de errores y excepciones**\n",
    "\n",
    "El manejo de errores es crucial para hacer que un programa sea robusto y evite fallas imprevistas. Python utiliza bloques `try`, `except`, `else`, y `finally` para manejar excepciones.\n",
    "\n",
    "### 🛠️ **Estructura del manejo de excepciones**\n",
    "- **`try`**: Se coloca el código que podría causar una excepción.\n",
    "- **`except`**: Se captura la excepción y se ejecuta el código alternativo.\n",
    "- **`else`**: Se ejecuta si no se produce ninguna excepción.\n",
    "- **`finally`**: Se ejecuta siempre, haya o no excepciones.\n",
    "\n",
    "#### 📝 **Ejemplos prácticos:**\n"
   ]
  },
  {
   "cell_type": "code",
   "execution_count": null,
   "metadata": {},
   "outputs": [],
   "source": [
    "# Ejemplo de Manejo de Excepciones\n",
    "try:\n",
    "    resultado = 10 / 0\n",
    "except ZeroDivisionError as e:\n",
    "    print(f\"Error: {e}\")\n",
    "else:\n",
    "    print(\"La operación se realizó correctamente.\")\n",
    "finally:\n",
    "    print(\"Este bloque se ejecuta siempre, independientemente de si hubo un error.\")"
   ]
  },
  {
   "cell_type": "markdown",
   "metadata": {},
   "source": [
    "## 🔢 **NumPy**\n",
    "\n",
    "**NumPy** es una librería fundamental para la computación científica en Python. Permite trabajar con arrays multidimensionales y ofrece funciones matemáticas de alto rendimiento.\n",
    "\n",
    "### 🛠️ **Operaciones básicas con numPy**\n",
    "NumPy es ideal para realizar operaciones vectorizadas y trabajar con grandes volúmenes de datos numéricos.\n",
    "- **`ndarray`**: La estructura de datos principal en NumPy. Es un array multidimensional que permite almacenar y operar con grandes cantidades de datos numéricos.\n",
    "- **`np.array()`**: Crea un array de NumPy a partir de una lista o tupla de Python.\n",
    "- **Operaciones matemáticas**: Funciones como `np.add()`, `np.subtract()`, `np.multiply()`, y `np.dot()` permiten realizar operaciones elementales y algebraicas.\n",
    "- **Indexación y slicing**: Permite acceder y modificar elementos específicos dentro de un array.\n",
    "- **Funciones universales**: Son funciones que operan en arrays de NumPy de manera eficiente. Ejemplos incluyen `np.sin()`, `np.exp()`, `np.sqrt()`, entre otras.\n",
    "\n",
    "\n",
    "#### 📝 **Ejemplos prácticos:**"
   ]
  },
  {
   "cell_type": "code",
   "execution_count": null,
   "metadata": {},
   "outputs": [],
   "source": [
    "import numpy as np\n",
    "\n",
    "# Crear un array unidimensional\n",
    "inventario = np.array([150, 200, 300])\n",
    "print(f\"Inventario actual: {inventario}\")"
   ]
  },
  {
   "cell_type": "code",
   "execution_count": null,
   "metadata": {},
   "outputs": [],
   "source": [
    "# Calcular el valor total del inventario multiplicando las cantidades por el precio unitario\n",
    "precio_unitario = np.array([10.0, 15.0, 20.0])\n",
    "valor_total = inventario * precio_unitario\n",
    "print(f\"Valor total del inventario: {valor_total}\")"
   ]
  },
  {
   "cell_type": "code",
   "execution_count": null,
   "metadata": {},
   "outputs": [],
   "source": [
    "# Sumar el inventario total\n",
    "total_unidades = np.sum(inventario)\n",
    "print(f\"Total de unidades en inventario: {total_unidades}\")"
   ]
  },
  {
   "cell_type": "markdown",
   "metadata": {},
   "source": [
    "## 🗃️ **Pandas**\n",
    "\n",
    "**Pandas** es una librería poderosa para el análisis de datos. Permite trabajar con estructuras de datos como Series y DataFrames, que son extremadamente útiles para manipular y analizar grandes conjuntos de datos.\n",
    "\n",
    "### 🛠️ **Operaciones básicas con Pandas**\n",
    "Pandas es excelente para trabajar con datos tabulares, filtrarlos, agregarlos, y transformarlos según las necesidades del análisis.\n",
    "\n",
    "- **`Series`**: Una estructura de datos unidimensional similar a un array de NumPy, pero con etiquetas de índice.\n",
    "- **`DataFrame`**: Una estructura de datos bidimensional, similar a una hoja de cálculo, con filas y columnas etiquetadas.\n",
    "- **`pd.read_csv()`**: Carga datos desde un archivo CSV en un DataFrame.\n",
    "- **Filtrado y Selección**: Funciones como `loc[]` y `iloc[]` permiten seleccionar y filtrar datos en un DataFrame.\n",
    "- **Agrupación y Agregación**: Funciones como `groupby()`, `mean()`, `sum()`, etc., permiten realizar operaciones agregadas basadas en categorías o grupos.\n",
    "- **Manejo de Datos Faltantes**: Métodos como `dropna()` y `fillna()` permiten limpiar y manejar datos faltantes en un DataFrame.\n",
    "\n",
    "\n",
    "#### 📝 **Ejemplos prácticos:**\n"
   ]
  },
  {
   "cell_type": "code",
   "execution_count": null,
   "metadata": {},
   "outputs": [],
   "source": [
    "import pandas as pd\n",
    "\n",
    "# Crear un DataFrame con datos de ventas\n",
    "datos_ventas = {\n",
    "    \"Producto\": [\"Laptop\", \"Teclado\", \"Monitor\", \"Tablet\"],\n",
    "    \"Cantidad\": [10, 50, 30, 40],\n",
    "    \"Precio Unitario\": [999.99, 49.99, 199.99, 299.99]\n",
    "}\n",
    "datos_ventas"
   ]
  },
  {
   "cell_type": "code",
   "execution_count": null,
   "metadata": {},
   "outputs": [],
   "source": [
    "# Crear un DataFrame a partir de un diccionario\n",
    "ventas_df = pd.DataFrame(datos_ventas)\n",
    "print(\"Datos de Ventas:\\n\", ventas_df)"
   ]
  },
  {
   "cell_type": "code",
   "execution_count": null,
   "metadata": {},
   "outputs": [],
   "source": [
    "# Calcular el valor total de ventas\n",
    "ventas_df[\"Valor Total\"] = ventas_df[\"Cantidad\"] * ventas_df[\"Precio Unitario\"]\n",
    "print(\"Datos de Ventas con Valor Total:\\n\", ventas_df)"
   ]
  },
  {
   "cell_type": "code",
   "execution_count": null,
   "metadata": {},
   "outputs": [],
   "source": [
    "# Filtrar productos con ventas superiores a $5,000\n",
    "ventas_mayores_5000 = ventas_df[ventas_df[\"Valor Total\"] > 5000]\n",
    "print(\"Productos con Ventas Superiores a $5,000:\\n\", ventas_mayores_5000)"
   ]
  },
  {
   "cell_type": "markdown",
   "metadata": {},
   "source": [
    "### 🔍 **Importación de archivos en Pandas**\n",
    "\n",
    "Pandas facilita la importación de datos desde una variedad de formatos, permitiendo convertir archivos externos en DataFrames que se pueden manipular y analizar fácilmente.\n",
    "\n",
    "#### **1. Importar archivos CSV**\n",
    "\n",
    "El formato CSV (Comma-Separated Values) es uno de los formatos más comunes para almacenar datos tabulares."
   ]
  },
  {
   "cell_type": "code",
   "execution_count": null,
   "metadata": {},
   "outputs": [],
   "source": [
    "# Importar un archivo CSV\n",
    "df_csv = pd.read_csv('DatosCSV.csv')\n",
    "\n",
    "# Mostrar las primeras filas del DataFrame\n",
    "df_csv.head()"
   ]
  },
  {
   "cell_type": "markdown",
   "metadata": {},
   "source": [
    "#### **2. Importar archivos Excel**\n",
    "\n",
    "Los archivos Excel (.xlsx) son muy utilizados para almacenar y compartir datos en formato tabular."
   ]
  },
  {
   "cell_type": "code",
   "execution_count": null,
   "metadata": {},
   "outputs": [],
   "source": [
    "# Importar un archivo Excel\n",
    "df_excel = pd.read_excel('DatosExcel.xlsx', sheet_name='Hoja1')\n",
    "\n",
    "# Mostrar las primeras filas del DataFrame\n",
    "df_excel.head()"
   ]
  },
  {
   "cell_type": "markdown",
   "metadata": {},
   "source": [
    "### 🔧 **Herramientas básicas al importar datos**\n",
    "\n",
    "Al importar archivos en Pandas, es fundamental realizar algunas operaciones básicas para asegurarte de que los datos están en el formato correcto y son utilizables.\n",
    "\n",
    "- **`df.head()`**: Muestra las primeras filas del DataFrame, permitiendo una vista rápida de los datos.\n",
    "- **`df.info()`**: Proporciona un resumen de la estructura del DataFrame, incluyendo el número de filas, columnas, y tipos de datos.\n",
    "- **`df.describe()`**: Proporciona estadísticas descriptivas para las columnas numéricas.\n",
    "- **`df.isnull().sum()`**: Muestra el número de valores nulos en cada columna, útil para detectar y manejar datos faltantes.\n",
    "- **`df.columns`**: Lista los nombres de las columnas, útil para confirmar que todas las columnas se importaron correctamente.\n",
    "- **`df.dtypes`**: Muestra los tipos de datos de cada columna."
   ]
  },
  {
   "cell_type": "code",
   "execution_count": null,
   "metadata": {},
   "outputs": [],
   "source": [
    "# Mostar las columnas del DataFrame\n",
    "df_excel.columns"
   ]
  },
  {
   "cell_type": "code",
   "execution_count": null,
   "metadata": {},
   "outputs": [],
   "source": [
    "# Mostrar tipos de datos de las columnas\n",
    "df_excel.dtypes"
   ]
  },
  {
   "cell_type": "code",
   "execution_count": null,
   "metadata": {},
   "outputs": [],
   "source": [
    "# Información sobre el DataFrame\n",
    "df_excel.info()"
   ]
  },
  {
   "cell_type": "code",
   "execution_count": null,
   "metadata": {},
   "outputs": [],
   "source": [
    "# Estadísticas descriptivas\n",
    "df_excel.describe()"
   ]
  },
  {
   "cell_type": "code",
   "execution_count": null,
   "metadata": {},
   "outputs": [],
   "source": [
    "# Verificar si hay valores nulos en el DataFrame\n",
    "df_excel.isnull().sum()"
   ]
  },
  {
   "cell_type": "code",
   "execution_count": null,
   "metadata": {},
   "outputs": [],
   "source": [
    "# Eliminar filas con valores nulos\n",
    "df_excel.dropna(inplace=True)"
   ]
  },
  {
   "cell_type": "code",
   "execution_count": null,
   "metadata": {},
   "outputs": [],
   "source": [
    "# Eliminar columnas no deseadas\n",
    "df_excel.drop(columns=['estu_nacionalidad'], inplace=True)\n",
    "df_excel.head()"
   ]
  },
  {
   "cell_type": "markdown",
   "metadata": {},
   "source": [
    "## 📊 **Matplotlib**\n",
    "\n",
    "**Matplotlib** es una librería utilizada para crear visualizaciones de datos. Es útil para generar gráficos estáticos y visualizaciones más complejas.\n",
    "\n",
    "### 🛠️ **Creación de gráficos con Matplotlib**\n",
    "Se puede crear gráficos de líneas, barras, dispersión, circulares, y más, personalizando colores, etiquetas, y leyendas.\n",
    "\n",
    "- **`plt.plot()`**: Crea gráficos de líneas para mostrar la relación entre dos conjuntos de datos.\n",
    "- **`plt.bar()`**: Crea gráficos de barras para comparar diferentes categorías.\n",
    "- **`plt.hist()`**: Crea histogramas para mostrar la distribución de un conjunto de datos.\n",
    "- **`plt.scatter()`**: Crea gráficos de dispersión para mostrar la relación entre dos variables.\n",
    "- **`plt.pie()`**: Crea gráficos circulares para mostrar proporciones relativas.\n",
    "\n",
    "#### 📝 **Ejemplos prácticos:**\n"
   ]
  },
  {
   "cell_type": "code",
   "execution_count": null,
   "metadata": {},
   "outputs": [],
   "source": [
    "import matplotlib.pyplot as plt\n",
    "\n",
    "# Datos de ventas por producto\n",
    "productos = [\"Laptop\", \"Teclado\", \"Monitor\", \"Tablet\"]\n",
    "ventas = [9999.9, 2499.5, 5999.7, 11999.6]"
   ]
  },
  {
   "cell_type": "code",
   "execution_count": null,
   "metadata": {},
   "outputs": [],
   "source": [
    "# Crear un gráfico de barras\n",
    "plt.bar(productos, ventas, color='skyblue')\n",
    "plt.title('Ventas por producto')\n",
    "plt.xlabel('Producto')\n",
    "plt.ylabel('Ventas en USD')\n",
    "plt.show()"
   ]
  },
  {
   "cell_type": "code",
   "execution_count": null,
   "metadata": {},
   "outputs": [],
   "source": [
    "# Crear un gráfico circular\n",
    "plt.pie(ventas, labels=productos, autopct='%1.1f%%')\n",
    "plt.title('Distribución de ventas')\n",
    "plt.show()"
   ]
  },
  {
   "cell_type": "markdown",
   "metadata": {},
   "source": [
    "## 🔗 **NetworkX**\n",
    "\n",
    "**NetworkX** es una librería especializada en la creación, manipulación y análisis de **grafos**. Los grafos son estructuras compuestas por **nodos** (también llamados vértices) conectados por **arcos** o **aristas** (también llamados enlaces o edges). Esta librería es especialmente útil en áreas como análisis de redes sociales, optimización de rutas, modelado de sistemas complejos, y más.\n",
    "\n",
    "### 🛠️ **Conceptos fundamentales**\n",
    "\n",
    "Antes de profundizar en NetworkX, es importante comprender algunos conceptos clave:\n",
    "\n",
    "- **Grafo**: Es una estructura matemática que modela un conjunto de objetos (nodos) y las relaciones entre ellos (arcos). Puede ser dirigido o no dirigido.\n",
    "- **Nodo**: Un nodo (o vértice) es un punto dentro de un grafo que puede representar un objeto o entidad.\n",
    "- **Arco**: Un arco (o arista) es una conexión entre dos nodos en un grafo. Puede tener una dirección (en grafos dirigidos) o no (en grafos no dirigidos).\n",
    "- **Grafo Dirigido**: Es un tipo de grafo donde las aristas tienen una dirección, es decir, van de un nodo a otro específico. Representa relaciones asimétricas como las rutas de transporte donde el camino de A a B no necesariamente implica que haya un camino de B a A.\n",
    "- **Grafo No Dirigido**: Es un grafo donde las aristas no tienen dirección, lo que implica que la relación entre los nodos es bidireccional.\n",
    "- **Peso de un Arco**: En algunos grafos, los arcos tienen un valor asociado, conocido como peso, que podría representar distancia, costo, capacidad, etc.\n",
    "\n",
    "###  Ejemplo\n",
    "\n",
    "<img src=\"https://upload.wikimedia.org/wikipedia/commons/thumb/5/5b/6n-graf.svg/1200px-6n-graf.svg.png\" width=\"200\">\n",
    "\n",
    "### 🔍 **Herramientas y funciones clave de NetworkX**\n",
    "\n",
    "- **`nx.Graph()`**: Crea un grafo no dirigido.\n",
    "- **`nx.DiGraph()`**: Crea un grafo dirigido.\n",
    "- **`G.add_node()`**: Añade un nodo al grafo.\n",
    "- **`G.add_edge()`**: Añade un arco entre dos nodos.\n",
    "- **`nx.shortest_path()`**: Encuentra el camino más corto entre dos nodos en un grafo.\n",
    "- **`nx.degree()`**: Retorna el grado de un nodo (número de aristas conectadas a ese nodo).\n",
    "- **`nx.connected_components()`**: Encuentra las componentes conexas en un grafo no dirigido.\n",
    "- **`nx.pagerank()`**: Implementa el algoritmo PageRank utilizado por motores de búsqueda para clasificar páginas web.\n",
    "- **Visualización de Grafos**: Con `nx.draw()` puedes visualizar la estructura del grafo.\n",
    "\n",
    "### 📝 **Ejemplos básicos:**"
   ]
  },
  {
   "cell_type": "markdown",
   "metadata": {},
   "source": [
    "#### **1. Creación de un grafo**\n",
    "Para empezar, necesitamos importar la librería y crear un objeto de grafo (no dirigido en este caso)."
   ]
  },
  {
   "cell_type": "code",
   "execution_count": null,
   "metadata": {},
   "outputs": [],
   "source": [
    "import networkx as nx\n",
    "\n",
    "# Crear un grafo dirigido para modelar rutas de entrega\n",
    "G = nx.DiGraph()"
   ]
  },
  {
   "cell_type": "markdown",
   "metadata": {},
   "source": [
    "#### **2. Adición de nodos**\n",
    "**Nodos individuales**"
   ]
  },
  {
   "cell_type": "code",
   "execution_count": null,
   "metadata": {},
   "outputs": [],
   "source": [
    "G.add_node('A')\n",
    "G.nodes()"
   ]
  },
  {
   "cell_type": "markdown",
   "metadata": {},
   "source": [
    "**Nodos múltiples desde una lista:**"
   ]
  },
  {
   "cell_type": "code",
   "execution_count": null,
   "metadata": {},
   "outputs": [],
   "source": [
    "nodes = ['B', 'C', 'D']\n",
    "G.add_nodes_from(nodes)\n",
    "G.nodes()"
   ]
  },
  {
   "cell_type": "code",
   "execution_count": null,
   "metadata": {},
   "outputs": [],
   "source": [
    "G.add_node(1)\n",
    "G.add_node(2)\n",
    "G.add_node(3)\n",
    "G.add_node(4)\n",
    "G.add_node(5)\n",
    "G.add_node(6)\n",
    "G.nodes()"
   ]
  },
  {
   "cell_type": "markdown",
   "metadata": {},
   "source": [
    "#### **3. Adición de aristas**\n",
    "**Arista individual:**"
   ]
  },
  {
   "cell_type": "code",
   "execution_count": null,
   "metadata": {},
   "outputs": [],
   "source": [
    "G.add_edge('A', 'B')\n",
    "G.edges()"
   ]
  },
  {
   "cell_type": "markdown",
   "metadata": {},
   "source": [
    "**Aristas múltiples desde una lista:**"
   ]
  },
  {
   "cell_type": "code",
   "execution_count": null,
   "metadata": {},
   "outputs": [],
   "source": [
    "edges = [('B', 'C'), ('C', 'D')]\n",
    "G.add_edges_from(edges)\n",
    "G.edges()"
   ]
  },
  {
   "cell_type": "markdown",
   "metadata": {},
   "source": [
    "#### **4. Atributos de nodos**\n",
    "\n",
    "**Asignar atributos al agregar un nodo:**"
   ]
  },
  {
   "cell_type": "code",
   "execution_count": null,
   "metadata": {},
   "outputs": [],
   "source": [
    "G.add_node('E', color='blue', size=10)"
   ]
  },
  {
   "cell_type": "markdown",
   "metadata": {},
   "source": [
    "**Asignar atributos a un nodo existente:**"
   ]
  },
  {
   "cell_type": "code",
   "execution_count": null,
   "metadata": {},
   "outputs": [],
   "source": [
    "G.nodes['A']['color'] = 'red'"
   ]
  },
  {
   "cell_type": "markdown",
   "metadata": {},
   "source": [
    "**Acceder a los atributos de un nodo:**"
   ]
  },
  {
   "cell_type": "code",
   "execution_count": null,
   "metadata": {},
   "outputs": [],
   "source": [
    "print(G.nodes['A']['color'])  # Outputs: 'red'"
   ]
  },
  {
   "cell_type": "markdown",
   "metadata": {},
   "source": [
    "#### **5. Atributos de aristas**\n",
    "\n",
    "**Asignar atributos al agregar una arista:**"
   ]
  },
  {
   "cell_type": "code",
   "execution_count": null,
   "metadata": {},
   "outputs": [],
   "source": [
    "G.add_edge('A', 'E', weight=4.7, relation='friend')"
   ]
  },
  {
   "cell_type": "markdown",
   "metadata": {},
   "source": [
    "**Asignar atributos a una arista existente:**"
   ]
  },
  {
   "cell_type": "code",
   "execution_count": null,
   "metadata": {},
   "outputs": [],
   "source": [
    "G['A']['B']['weight'] = 5.0"
   ]
  },
  {
   "cell_type": "markdown",
   "metadata": {},
   "source": [
    "**Acceder a los atributos de una arista:**"
   ]
  },
  {
   "cell_type": "code",
   "execution_count": null,
   "metadata": {},
   "outputs": [],
   "source": [
    "print(G['A']['E']['relation'])  # Outputs: 'friend'"
   ]
  },
  {
   "cell_type": "markdown",
   "metadata": {},
   "source": [
    "#### **6. Visualización**\n",
    "\n",
    "Para visualizar el grafo, podemos usar la función `draw` de NetworkX en combinación con Matplotlib."
   ]
  },
  {
   "cell_type": "code",
   "execution_count": null,
   "metadata": {},
   "outputs": [],
   "source": [
    "import matplotlib.pyplot as plt\n",
    "\n",
    "nx.draw(G, with_labels=True)\n",
    "plt.show()"
   ]
  },
  {
   "cell_type": "markdown",
   "metadata": {},
   "source": [
    "#### **7. Dirección en los grafos**\n",
    "\n",
    "Además, podemos especializar los grafos asociando la direccionalidad a las aristas (dirigidas, no dirigidas).\n",
    "\n",
    "![Grafo Dirigido](https://www.luisllamas.es/images/20297/grafo-dirigido.webp)\n",
    "\n",
    "Las aristas pueden ser dirigidas, donde una arista e  tiene un nodo origen, $v_{src}$ y un nodo de destino $v_{dst}$ . En este caso, hay flujos de $v_{src}$  a $v_{dst}$.\n",
    "\n",
    "También pueden ser no dirigidas, donde no hay noción de nodos de origen o destino, y hay flujo en ambas direcciones. Obsérvese que tener una sola arista no dirigida equivale a tener una arista dirigida desde $v_{src}$  a $v_{dst}$ y otra arista dirigida desde $v_{dst}$ a $v_{src}$"
   ]
  },
  {
   "cell_type": "markdown",
   "metadata": {},
   "source": [
    "##### **7.1. Grafos No Dirigidos**\n",
    "Estos son grafos donde las aristas no tienen una dirección. Es decir, si existe una arista entre los nodos A y B, entonces esa arista se puede recorrer en ambos sentidos."
   ]
  },
  {
   "cell_type": "code",
   "execution_count": null,
   "metadata": {},
   "outputs": [],
   "source": [
    "G_undirected = nx.Graph()\n",
    "G_undirected.add_edge('A', 'B')\n",
    "G_undirected.add_edge('B', 'C')\n",
    "\n",
    "nx.draw(G_undirected, with_labels=True)\n",
    "plt.show()"
   ]
  },
  {
   "cell_type": "markdown",
   "metadata": {},
   "source": [
    "##### **7.2. Grafos Dirigidos (digrafos)**\n",
    "A diferencia de los grafos no dirigidos, en un grafo dirigido, cada arista tiene una dirección definida. Es decir, si existe una arista dirigida de A hacia B, no necesariamente existe una arista de B hacia A."
   ]
  },
  {
   "cell_type": "code",
   "execution_count": null,
   "metadata": {},
   "outputs": [],
   "source": [
    "G_directed = nx.DiGraph()\n",
    "G_directed.add_edge('A', 'B')\n",
    "G_directed.add_edge('B', 'C')\n",
    "\n",
    "nx.draw(G_directed, with_labels=True, node_size=1000, node_color=\"skyblue\", pos=nx.spring_layout(G_directed))\n",
    "plt.show()"
   ]
  },
  {
   "cell_type": "markdown",
   "metadata": {},
   "source": [
    "##### **7.3.Multigrafos**\n",
    "\n",
    "Un multigrafo es una generalización del concepto de grafo en la teoría de grafos. En un multigrafo, se permite más de una arista (llamada múltiples aristas) entre cualquier par de nodos. Estas múltiples aristas pueden ser dirigidas o no dirigidas.\n",
    "\n",
    "Los multigrafos son útiles en situaciones donde es necesario modelar relaciones que pueden tener múltiples instancias entre entidades. Por ejemplo, si estás modelando un sistema de transporte donde hay múltiples rutas (representadas por aristas) entre dos ciudades (representadas por vértices), un multigrafo sería una herramienta apropiada para representar esta estructura."
   ]
  },
  {
   "cell_type": "markdown",
   "metadata": {},
   "source": [
    "##### **Multigrafos no dirigidos**"
   ]
  },
  {
   "cell_type": "code",
   "execution_count": null,
   "metadata": {},
   "outputs": [],
   "source": [
    "G_multigraph = nx.MultiGraph()\n",
    "G_multigraph.add_edge('A', 'B')\n",
    "G_multigraph.add_edge('A', 'B')\n",
    "G_multigraph.add_edge('B', 'C')\n",
    "\n",
    "nx.draw(G_multigraph, with_labels=True, node_size=1000, node_color=\"skyblue\", pos=nx.spring_layout(G_multigraph))\n",
    "plt.show()"
   ]
  },
  {
   "cell_type": "markdown",
   "metadata": {},
   "source": [
    "##### **Multigrafos dirigidos**"
   ]
  },
  {
   "cell_type": "code",
   "execution_count": null,
   "metadata": {},
   "outputs": [],
   "source": [
    "G_multidigraph = nx.MultiDiGraph()\n",
    "G_multidigraph.add_edge('A', 'B')\n",
    "G_multidigraph.add_edge('A', 'B')\n",
    "G_multidigraph.add_edge('B', 'C')\n",
    "\n",
    "nx.draw(G_multidigraph, with_labels=True, node_size=1000, node_color=\"skyblue\", pos=nx.spring_layout(G_multidigraph))\n",
    "plt.show()"
   ]
  },
  {
   "cell_type": "code",
   "execution_count": null,
   "metadata": {},
   "outputs": [],
   "source": [
    "# Añadir aristas con diferentes pesos entre los nodos A y B\n",
    "G_multidigraph.add_edge('A', 'B', weight=5)\n",
    "G_multidigraph.add_edge('A', 'B', weight=10)\n",
    "G_multidigraph.add_edge('B', 'C', weight=15)\n",
    "\n",
    "# Dibujar el multigrafo\n",
    "pos = nx.spring_layout(G_multidigraph)\n",
    "nx.draw(G_multidigraph, pos, with_labels=True)\n",
    "\n",
    "\n",
    "# Dibujar etiquetas de las aristas\n",
    "for (u, v, key, data) in G_multidigraph.edges(keys=True, data=True):\n",
    "    label = data.get('weight')\n",
    "    if label:  # Solo mostramos la etiqueta si el atributo 'weight' existe\n",
    "        # Calculemos una posición para las etiquetas basada en la posición de los nodos\n",
    "        x = (pos[u][0] + pos[v][0]) / 2\n",
    "        y = (pos[u][1] + pos[v][1]) / 2\n",
    "        plt.text(x, y, label)\n",
    "\n",
    "plt.show()"
   ]
  },
  {
   "cell_type": "markdown",
   "metadata": {},
   "source": [
    "El método `nx.draw()` proporciona una manera sencilla de visualizar grafos. En los ejemplos anteriores, utilizamos diferentes argumentos para personalizar el aspecto del grafo. Si deseas más opciones de visualización, te recomiendo investigar sobre herramientas más avanzadas como `pyplot` de `matplotlib`, con las cuales puedes lograr visualizaciones más detalladas y atractivas."
   ]
  },
  {
   "cell_type": "markdown",
   "metadata": {},
   "source": [
    "#### **8. Nodos y Grafos Conectados**\n",
    "\n",
    "**Definición**: Un grafo se considera **conectado** si existe un camino entre cualquier par de nodos del grafo. Si el grafo no es conectado, se divide en componentes conectados.\n",
    "\n",
    "Un **componente conectado** es un subconjunto del grafo en el que existe un camino entre cualquier par de nodos, y no está conectado a ningún nodo adicional del grafo."
   ]
  },
  {
   "cell_type": "markdown",
   "metadata": {},
   "source": [
    "**8.1 Crear un grafo simple y verificar si es conectado**"
   ]
  },
  {
   "cell_type": "code",
   "execution_count": null,
   "metadata": {},
   "outputs": [],
   "source": [
    "# Crear un grafo\n",
    "G = nx.Graph()\n",
    "\n",
    "\n",
    "# Añadir nodos y aristas\n",
    "G.add_edges_from([(1, 2), (2, 3), (3, 4)])\n",
    "\n",
    "# Visualizar el grafo\n",
    "nx.draw(G, with_labels=True, font_weight='bold', node_color='lightblue')\n",
    "plt.show()\n",
    "\n",
    "# Verificar si el grafo es conectado\n",
    "is_connected = nx.is_connected(G)\n",
    "print(f\"El grafo es conectado: {is_connected}\")"
   ]
  },
  {
   "cell_type": "markdown",
   "metadata": {},
   "source": [
    "**8.2 Identificar componentes conectados en un grafo no conectado**"
   ]
  },
  {
   "cell_type": "code",
   "execution_count": null,
   "metadata": {},
   "outputs": [],
   "source": [
    "# Crear un grafo no conectado\n",
    "H = nx.Graph()\n",
    "H.add_edges_from([(1, 2), (2, 3), (4, 5)])\n",
    "\n",
    "# Visualizar el grafo\n",
    "nx.draw(H, with_labels=True, font_weight='bold', node_color='lightblue')\n",
    "plt.show()\n",
    "\n",
    "# Identificar componentes conectados\n",
    "components = list(nx.connected_components(H))\n",
    "print(f\"Componentes conectados: {components}\")"
   ]
  },
  {
   "cell_type": "markdown",
   "metadata": {},
   "source": [
    "**8.3. Extraer un componente conectado específico**"
   ]
  },
  {
   "cell_type": "code",
   "execution_count": null,
   "metadata": {},
   "outputs": [],
   "source": [
    "# Extraer el primer componente conectado del grafo H\n",
    "subgraph = H.subgraph(components[0])\n",
    "\n",
    "# Visualizar el subgrafo\n",
    "nx.draw(subgraph, with_labels=True, font_weight='bold', node_color='lightgreen')\n",
    "plt.show()"
   ]
  },
  {
   "cell_type": "markdown",
   "metadata": {},
   "source": [
    "- Puede convertir un grafo a no dirigido con el método ``to_undirected``. Esto devuelve un nuevo objeto de grafo con los mismos nodos y aristas, pero con todas las aristas dirigidas convertidas en no dirigidas. El grafo original no se modifica.\n",
    "\n",
    "- Puede convertir un grafo a dirigido con el método ``to_directed``. Esto devuelve un nuevo objeto de grafo con los mismos nodos y aristas, pero con todas las aristas no dirigidas convertidas en dirigidas. El grafo original no se modifica."
   ]
  },
  {
   "cell_type": "markdown",
   "metadata": {},
   "source": [
    "#### **9. Ejemplo final(ruta mas corta)**"
   ]
  },
  {
   "cell_type": "code",
   "execution_count": null,
   "metadata": {},
   "outputs": [],
   "source": [
    "# Crear un grafo dirigido para modelar rutas de entrega\n",
    "G = nx.DiGraph()\n",
    "\n",
    "# Añadir nodos y aristas (con distancias en km)\n",
    "G.add_edge(\"Almacén A\", \"Centro de Distribución 1\", weight=50)\n",
    "G.add_edge(\"Almacén A\", \"Centro de Distribución 2\", weight=75)\n",
    "G.add_edge(\"Centro de Distribución 1\", \"Cliente 1\", weight=25)\n",
    "G.add_edge(\"Centro de Distribución 2\", \"Cliente 2\", weight=35)\n",
    "\n",
    "# Dibujar el grafo\n",
    "pos = nx.spring_layout(G)\n",
    "nx.draw(G, pos, with_labels=True, node_color='lightgreen', node_size=1500, font_size=10, font_color='black')\n",
    "labels = nx.get_edge_attributes(G, 'weight')\n",
    "nx.draw_networkx_edge_labels(G, pos, edge_labels=labels)\n",
    "plt.title('Red de Rutas de Entrega')\n",
    "plt.show()\n",
    "\n",
    "# Calcular la ruta más corta del almacén al Cliente 2\n",
    "ruta_mas_corta = nx.shortest_path(G, source=\"Almacén A\", target=\"Cliente 2\", weight='weight')\n",
    "print(f\"La ruta más corta desde el Almacén A al Cliente 2 es: {ruta_mas_corta}\")"
   ]
  },
  {
   "cell_type": "markdown",
   "metadata": {},
   "source": [
    "# 🏁 **Conclusión**\n",
    "\n",
    "Este cuaderno cubre una amplia gama de conceptos fundamentales en Python, desde la declaración de variables y estructuras de datos hasta el uso de librerías clave como NumPy, Pandas, Matplotlib y NetworkX.\n",
    "\n",
    "### 🔗 **Recursos Adicionales**\n",
    "- [Documentación Oficial de Python](https://docs.python.org/3/)\n",
    "- [Tutoriales de NumPy](https://numpy.org/learn/)\n",
    "- [Guía de Pandas](https://pandas.pydata.org/docs/getting_started/index.html)\n",
    "- [Matplotlib: Crear Gráficos en Python](https://matplotlib.org/stable/contents.html)\n",
    "- [NetworkX: Análisis de Redes Complejas](https://networkx.github.io/documentation/stable/)\n",
    "\n",
    "\n"
   ]
  }
 ],
 "metadata": {
  "kernelspec": {
   "display_name": "Python 3",
   "language": "python",
   "name": "python3"
  },
  "language_info": {
   "codemirror_mode": {
    "name": "ipython",
    "version": 3
   },
   "file_extension": ".py",
   "mimetype": "text/x-python",
   "name": "python",
   "nbconvert_exporter": "python",
   "pygments_lexer": "ipython3",
   "version": "3.8.3"
  }
 },
 "nbformat": 4,
 "nbformat_minor": 2
}
