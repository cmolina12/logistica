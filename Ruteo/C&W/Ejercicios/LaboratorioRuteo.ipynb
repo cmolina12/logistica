{
 "cells": [
  {
   "cell_type": "code",
   "execution_count": 33,
   "id": "17d03655",
   "metadata": {},
   "outputs": [],
   "source": [
    "import pandas as pd\n",
    "import numpy as np\n"
   ]
  },
  {
   "cell_type": "markdown",
   "id": "129e32c5",
   "metadata": {},
   "source": [
    "## Importar los datos de distancias de Excel y convertirlos en una matriz de numpy."
   ]
  },
  {
   "cell_type": "code",
   "execution_count": 41,
   "id": "40eeeaf7",
   "metadata": {},
   "outputs": [
    {
     "name": "stdout",
     "output_type": "stream",
     "text": [
      "<class 'numpy.ndarray'>\n",
      "(9, 9)\n",
      "[[ 0.         29.02787117 18.90101092 15.44329555  4.07740787  9.24614035\n",
      "  12.12368457 17.5427562  11.84001127]\n",
      " [29.02787117  0.         15.67337576 13.95100679 32.72830549 37.65092033\n",
      "  31.02406411 46.12296331 20.23629955]\n",
      " [18.90101092 15.67337576  0.         11.7015284  22.97345327 25.47646704\n",
      "  16.20966103 36.20340669 17.16844017]\n",
      " [15.44329555 13.95100679 11.7015284   0.         18.92584824 24.47460493\n",
      "  20.66876741 32.20638852  6.8503269 ]\n",
      " [ 4.07740787 32.72830549 22.97345327 18.92584824  0.          7.37328945\n",
      "  14.52770374 13.54676377 14.32311293]\n",
      " [ 9.24614035 37.65092033 25.47646704 24.47460493  7.37328945  0.\n",
      "  12.1815037  12.12848139 21.01853109]\n",
      " [12.12368457 31.02406411 16.20966103 20.66876741 14.52770374 12.1815037\n",
      "   0.         24.30102115 20.88595517]\n",
      " [17.5427562  46.12296331 36.20340669 32.20638852 13.54676377 12.12848139\n",
      "  24.30102115  0.         26.74937553]\n",
      " [11.84001127 20.23629955 17.16844017  6.8503269  14.32311293 21.01853109\n",
      "  20.88595517 26.74937553  0.        ]]\n"
     ]
    }
   ],
   "source": [
    "import pandas as pd\n",
    "import numpy as np\n",
    "\n",
    "excel = \"VRP_LaboratorioRuteo.xlsm\"\n",
    "\n",
    "# Si tu hoja ya es matriz (con la 1a columna siendo los nombres de fila):\n",
    "df = pd.read_excel(excel, sheet_name=\"Matriz de distancias\", header=None)\n",
    "\n",
    "# Convierte el DataFrame a numpy.ndarray\n",
    "dist = df.to_numpy(dtype=float, copy=True)\n",
    "\n",
    "# Ahora 'dist' es exactamente un np.array\n",
    "print(type(dist))\n",
    "print(dist.shape)\n",
    "print(dist)"
   ]
  },
  {
   "cell_type": "markdown",
   "id": "f83797b4",
   "metadata": {},
   "source": [
    "## Matriz de ahorros"
   ]
  },
  {
   "cell_type": "code",
   "execution_count": 42,
   "id": "edde1700",
   "metadata": {},
   "outputs": [
    {
     "name": "stdout",
     "output_type": "stream",
     "text": [
      "{1: [0, 1, 0], 2: [0, 2, 0], 3: [0, 3, 0], 4: [0, 4, 0], 5: [0, 5, 0], 6: [0, 6, 0], 7: [0, 7, 0], 8: [0, 8, 0]}\n",
      "\n",
      "Matriz de ahorros:\n",
      "     0          1          2          3         4          5          6  \\\n",
      "0  0.0   0.000000   0.000000   0.000000  0.000000   0.000000   0.000000   \n",
      "1  0.0   0.000000  32.255506  30.520160  0.376974   0.623091  10.127492   \n",
      "2  0.0  32.255506   0.000000  22.642778  0.004966   2.670684  14.815034   \n",
      "3  0.0  30.520160  22.642778   0.000000  0.594855   0.214831   6.898213   \n",
      "4  0.0   0.376974   0.004966   0.594855  0.000000   5.950259   1.673389   \n",
      "5  0.0   0.623091   2.670684   0.214831  5.950259   0.000000   9.188321   \n",
      "6  0.0  10.127492  14.815034   6.898213  1.673389   9.188321   0.000000   \n",
      "7  0.0   0.447664   0.240360   0.779663  8.073400  14.660415   5.365420   \n",
      "8  0.0  20.631583  13.572582  20.432980  1.594306   0.067621   3.077741   \n",
      "\n",
      "           7          8  \n",
      "0   0.000000   0.000000  \n",
      "1   0.447664  20.631583  \n",
      "2   0.240360  13.572582  \n",
      "3   0.779663  20.432980  \n",
      "4   8.073400   1.594306  \n",
      "5  14.660415   0.067621  \n",
      "6   5.365420   3.077741  \n",
      "7   0.000000   2.633392  \n",
      "8   2.633392   0.000000  \n"
     ]
    }
   ],
   "source": [
    "clientes = [0,1,2,3,4,5,6,7,8]\n",
    "\n",
    "rutas = {i: [0, i, 0] for i in clientes if i != 0}\n",
    "print(rutas)\n",
    "print(\"\")\n",
    "\n",
    "# Matriz de ahorros\n",
    "ahorros = np.zeros((len(clientes), len(clientes)))\n",
    "\n",
    "lista_ahorros = []\n",
    "\n",
    "for index_i, i in enumerate(clientes):\n",
    "    for index_j, j in enumerate(clientes):\n",
    "        if i != j:\n",
    "            ahorros[index_i, index_j] = dist[i, 0] + dist[0, j] - dist[i, j]\n",
    "\n",
    "print(\"Matriz de ahorros:\")\n",
    "print(pd.DataFrame(ahorros))"
   ]
  },
  {
   "cell_type": "code",
   "execution_count": 46,
   "id": "9a0464e1",
   "metadata": {},
   "outputs": [
    {
     "name": "stdout",
     "output_type": "stream",
     "text": [
      "(1, 2, 32.255506330848775)\n",
      "(2, 1, 32.255506330848775)\n",
      "(1, 3, 30.520159927823634)\n",
      "(3, 1, 30.520159927823634)\n",
      "(2, 3, 22.642778072003935)\n",
      "(3, 2, 22.642778072003935)\n",
      "(1, 8, 20.631582885479133)\n",
      "(8, 1, 20.631582885479133)\n",
      "(3, 8, 20.43297991297382)\n",
      "(8, 3, 20.43297991297382)\n",
      "(2, 6, 14.815034458685307)\n",
      "(6, 2, 14.815034458685307)\n",
      "(5, 7, 14.660415165601961)\n",
      "(7, 5, 14.660415165601961)\n",
      "(2, 8, 13.572582019167047)\n",
      "(8, 2, 13.572582019167047)\n",
      "(1, 6, 10.127491628169256)\n",
      "(6, 1, 10.127491628169256)\n",
      "(5, 6, 9.188321220671638)\n",
      "(6, 5, 9.188321220671638)\n",
      "(4, 7, 8.07340029370271)\n",
      "(7, 4, 8.07340029370271)\n",
      "(3, 6, 6.898212703975176)\n",
      "(6, 3, 6.898212703975176)\n",
      "(4, 5, 5.950258769620938)\n",
      "(5, 4, 5.950258769620938)\n",
      "(6, 7, 5.365419617380233)\n",
      "(7, 6, 5.365419617380233)\n",
      "(6, 8, 3.077740664795087)\n",
      "(8, 6, 3.077740664795087)\n",
      "(2, 5, 2.6706842325354536)\n",
      "(5, 2, 2.6706842325354536)\n",
      "(7, 8, 2.6333919406137767)\n",
      "(8, 7, 2.6333919406137767)\n",
      "(4, 6, 1.673388693432317)\n",
      "(6, 4, 1.673388693432317)\n",
      "(4, 8, 1.5943061993661036)\n",
      "(8, 4, 1.5943061993661036)\n",
      "(3, 7, 0.7796632266227022)\n",
      "(7, 3, 0.7796632266227022)\n",
      "(1, 5, 0.6230911911220005)\n",
      "(5, 1, 0.6230911911220005)\n",
      "(3, 4, 0.5948551727104068)\n",
      "(4, 3, 0.5948551727104068)\n",
      "(1, 7, 0.44766406349648946)\n",
      "(7, 1, 0.44766406349648946)\n",
      "(1, 4, 0.3769735432207284)\n",
      "(4, 1, 0.3769735432207284)\n",
      "(2, 7, 0.24036042768448596)\n",
      "(7, 2, 0.24036042768448596)\n",
      "(3, 5, 0.21483096968296422)\n",
      "(5, 3, 0.21483096968296422)\n",
      "(5, 8, 0.06762052970107746)\n",
      "(8, 5, 0.06762052970107746)\n",
      "(2, 4, 0.004965511675180778)\n",
      "(4, 2, 0.004965511675180778)\n",
      "56\n"
     ]
    }
   ],
   "source": [
    "# e. Lista de tuplas (i,j,ahorro) en orden descendente de ahorro\n",
    "lista_ahorros = []\n",
    "for i in range(len(clientes)):\n",
    "    for j in range(len(clientes)):\n",
    "        if (\n",
    "            i != j\n",
    "            and i != 0\n",
    "            and j != 0\n",
    "            and np.isfinite(ahorros[i, j])\n",
    "        ):\n",
    "            lista_ahorros.append((clientes[i], clientes[j], float(ahorros[i, j])))\n",
    "\n",
    "lista_ahorros = sorted(lista_ahorros, key=lambda x: x[2], reverse=True)\n",
    "\n",
    "for opcion in lista_ahorros:\n",
    "    print(opcion)\n",
    "print(len(lista_ahorros))"
   ]
  },
  {
   "cell_type": "code",
   "execution_count": null,
   "id": "0b54de78",
   "metadata": {},
   "outputs": [],
   "source": [
    "rutas_consolidadas = []  # Lista para almacenar las rutas consolidadas\n",
    "which_route = {i: i for i in clientes if i != 0}  # Mapea cada cliente a su ruta inicial\n",
    "rutas = {i: [0, i, 0] for i in clientes if i != 0}  # Rutas iniciales\n",
    "contador = 0  # Contador de iteraciones\n",
    "ahorro_total = 0  # Ahorro total acumulado\n",
    "\n",
    "print(which_route)\n",
    "\n",
    "\n",
    "# * ========================================================\n",
    "# * Funcion para verificar que no se viole la restriccion de demanda\n",
    "# * ========================================================\n",
    "\n",
    "def verificar_demanda(ruta, Q, entrega, recolec):\n",
    "    # Salimos del deposito con la carga inicial correspondiente a las que voy a entregar\n",
    "    # Verificar que estas entregas no excedan la capacidad del vehiculo\n",
    "    carga = sum(entrega[cliente] for cliente in ruta if cliente != 0)\n",
    "\n",
    "    if carga <= Q:\n",
    "        # Ahora para cada cliente en la ruta, entrega y recolecta, verificar que despues de cada paso no se exceda la capacidad\n",
    "        for n in ruta[1:-1]:  # Excluir el depósito (0) al inicio y al final\n",
    "            carga -= entrega[n]  # Entrego lo que tengo que entregar\n",
    "            carga += recolec[n]  # Recolecto lo que tengo que recolectar\n",
    "            if carga > Q:  # Si en algun momento se excede la capacidad, retorno False\n",
    "                return False\n",
    "\n",
    "    return True  # Si nunca se excede la capacidad, retorno True"
   ]
  }
 ],
 "metadata": {
  "kernelspec": {
   "display_name": ".venv",
   "language": "python",
   "name": "python3"
  },
  "language_info": {
   "codemirror_mode": {
    "name": "ipython",
    "version": 3
   },
   "file_extension": ".py",
   "mimetype": "text/x-python",
   "name": "python",
   "nbconvert_exporter": "python",
   "pygments_lexer": "ipython3",
   "version": "3.11.4"
  }
 },
 "nbformat": 4,
 "nbformat_minor": 5
}
