{
 "cells": [
  {
   "metadata": {},
   "cell_type": "markdown",
   "source": "# Complementaria 6: Algoritmos de Caminos Mínimos",
   "id": "9eb135f0a9e97864"
  },
  {
   "metadata": {},
   "cell_type": "markdown",
   "source": "## Importar librerías",
   "id": "e2d44c1495073e86"
  },
  {
   "metadata": {
    "collapsed": true
   },
   "cell_type": "code",
   "source": [
    "import networkx as nx\n",
    "import matplotlib.pyplot as plt\n",
    "import numpy as np\n",
    "import pandas as pd"
   ],
   "id": "14a38abe394e995c",
   "outputs": [],
   "execution_count": null
  },
  {
   "metadata": {},
   "cell_type": "markdown",
   "source": "## Importar datos",
   "id": "12dfd37699cea4d3"
  },
  {
   "metadata": {
    "ExecuteTime": {
     "end_time": "2025-09-12T01:13:34.997111Z",
     "start_time": "2025-09-12T01:13:34.958071Z"
    }
   },
   "cell_type": "code",
   "source": [
    "# Cargar datos desde un archivo .xlsx usando pandas, 'Plantilla.xlsx' sera nuestro archivo\n",
    "df_r = pd.read_excel('Plantilla.xlsx', sheet_name='UltraCargo_Rutas_Transporte')\n",
    "df_c = pd.read_excel('Plantilla.xlsx', sheet_name='UltraCargo_Centros_Logísticos')"
   ],
   "id": "2905f2538cefe0d2",
   "outputs": [],
   "execution_count": 10
  },
  {
   "metadata": {
    "ExecuteTime": {
     "end_time": "2025-09-12T01:13:36.109147Z",
     "start_time": "2025-09-12T01:13:36.106221Z"
    }
   },
   "cell_type": "code",
   "source": [
    "# Dimension de los dataframes\n",
    "print(\"Dimensión de df_r:\", df_r.shape)\n",
    "print(\"Dimensión de df_c:\", df_c.shape)"
   ],
   "id": "30972500d486cbad",
   "outputs": [
    {
     "name": "stdout",
     "output_type": "stream",
     "text": [
      "Dimensión de df_r: (144, 11)\n",
      "Dimensión de df_c: (20, 4)\n"
     ]
    }
   ],
   "execution_count": 11
  },
  {
   "metadata": {
    "ExecuteTime": {
     "end_time": "2025-09-12T01:13:37.283157Z",
     "start_time": "2025-09-12T01:13:37.274226Z"
    }
   },
   "cell_type": "code",
   "source": [
    "# Validar que los datos de la hoja 'UltraCargo_Rutas_Transporte' se hayan cargado correctamente\n",
    "df_r.head()"
   ],
   "id": "ff065d3151755fc9",
   "outputs": [
    {
     "data": {
      "text/plain": [
       "      Origen      Destino  Distancia  Velocidad  Frontera  Alta_Demanda  \\\n",
       "0  San Diego      Phoenix        500        100         0             1   \n",
       "1  San Diego    Las Vegas       1860         80         1             1   \n",
       "2  San Diego       Dallas       2274        100         1             1   \n",
       "3  San Diego       Austin        909        100         1             0   \n",
       "4  San Diego  San Antonio        614         80         1             0   \n",
       "\n",
       "   Capacidad  Horario  Terrestre  Aereo  Vuelos  \n",
       "0         30       19          1      0       0  \n",
       "1         11       12          0      1       2  \n",
       "2         35       23          1      0       0  \n",
       "3         35       24          1      0       0  \n",
       "4         47       23          0      1       2  "
      ],
      "text/html": [
       "<div>\n",
       "<style scoped>\n",
       "    .dataframe tbody tr th:only-of-type {\n",
       "        vertical-align: middle;\n",
       "    }\n",
       "\n",
       "    .dataframe tbody tr th {\n",
       "        vertical-align: top;\n",
       "    }\n",
       "\n",
       "    .dataframe thead th {\n",
       "        text-align: right;\n",
       "    }\n",
       "</style>\n",
       "<table border=\"1\" class=\"dataframe\">\n",
       "  <thead>\n",
       "    <tr style=\"text-align: right;\">\n",
       "      <th></th>\n",
       "      <th>Origen</th>\n",
       "      <th>Destino</th>\n",
       "      <th>Distancia</th>\n",
       "      <th>Velocidad</th>\n",
       "      <th>Frontera</th>\n",
       "      <th>Alta_Demanda</th>\n",
       "      <th>Capacidad</th>\n",
       "      <th>Horario</th>\n",
       "      <th>Terrestre</th>\n",
       "      <th>Aereo</th>\n",
       "      <th>Vuelos</th>\n",
       "    </tr>\n",
       "  </thead>\n",
       "  <tbody>\n",
       "    <tr>\n",
       "      <th>0</th>\n",
       "      <td>San Diego</td>\n",
       "      <td>Phoenix</td>\n",
       "      <td>500</td>\n",
       "      <td>100</td>\n",
       "      <td>0</td>\n",
       "      <td>1</td>\n",
       "      <td>30</td>\n",
       "      <td>19</td>\n",
       "      <td>1</td>\n",
       "      <td>0</td>\n",
       "      <td>0</td>\n",
       "    </tr>\n",
       "    <tr>\n",
       "      <th>1</th>\n",
       "      <td>San Diego</td>\n",
       "      <td>Las Vegas</td>\n",
       "      <td>1860</td>\n",
       "      <td>80</td>\n",
       "      <td>1</td>\n",
       "      <td>1</td>\n",
       "      <td>11</td>\n",
       "      <td>12</td>\n",
       "      <td>0</td>\n",
       "      <td>1</td>\n",
       "      <td>2</td>\n",
       "    </tr>\n",
       "    <tr>\n",
       "      <th>2</th>\n",
       "      <td>San Diego</td>\n",
       "      <td>Dallas</td>\n",
       "      <td>2274</td>\n",
       "      <td>100</td>\n",
       "      <td>1</td>\n",
       "      <td>1</td>\n",
       "      <td>35</td>\n",
       "      <td>23</td>\n",
       "      <td>1</td>\n",
       "      <td>0</td>\n",
       "      <td>0</td>\n",
       "    </tr>\n",
       "    <tr>\n",
       "      <th>3</th>\n",
       "      <td>San Diego</td>\n",
       "      <td>Austin</td>\n",
       "      <td>909</td>\n",
       "      <td>100</td>\n",
       "      <td>1</td>\n",
       "      <td>0</td>\n",
       "      <td>35</td>\n",
       "      <td>24</td>\n",
       "      <td>1</td>\n",
       "      <td>0</td>\n",
       "      <td>0</td>\n",
       "    </tr>\n",
       "    <tr>\n",
       "      <th>4</th>\n",
       "      <td>San Diego</td>\n",
       "      <td>San Antonio</td>\n",
       "      <td>614</td>\n",
       "      <td>80</td>\n",
       "      <td>1</td>\n",
       "      <td>0</td>\n",
       "      <td>47</td>\n",
       "      <td>23</td>\n",
       "      <td>0</td>\n",
       "      <td>1</td>\n",
       "      <td>2</td>\n",
       "    </tr>\n",
       "  </tbody>\n",
       "</table>\n",
       "</div>"
      ]
     },
     "execution_count": 12,
     "metadata": {},
     "output_type": "execute_result"
    }
   ],
   "execution_count": 12
  },
  {
   "metadata": {
    "ExecuteTime": {
     "end_time": "2025-09-12T01:13:38.804133Z",
     "start_time": "2025-09-12T01:13:38.800541Z"
    }
   },
   "cell_type": "code",
   "source": [
    "# Validar que los datos de la hoja 'UltraCargo_Centros_Logísticos' se hayan cargado correctamente\n",
    "df_c.head()"
   ],
   "id": "78f936ed4b41e32f",
   "outputs": [
    {
     "data": {
      "text/plain": [
       "   Codigo       Ciudad      Estado    País\n",
       "0       1    San Diego  California  EE.UU.\n",
       "1       2  Los Angeles  California  EE.UU.\n",
       "2       3      Phoenix     Arizona  EE.UU.\n",
       "3       4    Las Vegas      Nevada  EE.UU.\n",
       "4       5       Denver    Colorado  EE.UU."
      ],
      "text/html": [
       "<div>\n",
       "<style scoped>\n",
       "    .dataframe tbody tr th:only-of-type {\n",
       "        vertical-align: middle;\n",
       "    }\n",
       "\n",
       "    .dataframe tbody tr th {\n",
       "        vertical-align: top;\n",
       "    }\n",
       "\n",
       "    .dataframe thead th {\n",
       "        text-align: right;\n",
       "    }\n",
       "</style>\n",
       "<table border=\"1\" class=\"dataframe\">\n",
       "  <thead>\n",
       "    <tr style=\"text-align: right;\">\n",
       "      <th></th>\n",
       "      <th>Codigo</th>\n",
       "      <th>Ciudad</th>\n",
       "      <th>Estado</th>\n",
       "      <th>País</th>\n",
       "    </tr>\n",
       "  </thead>\n",
       "  <tbody>\n",
       "    <tr>\n",
       "      <th>0</th>\n",
       "      <td>1</td>\n",
       "      <td>San Diego</td>\n",
       "      <td>California</td>\n",
       "      <td>EE.UU.</td>\n",
       "    </tr>\n",
       "    <tr>\n",
       "      <th>1</th>\n",
       "      <td>2</td>\n",
       "      <td>Los Angeles</td>\n",
       "      <td>California</td>\n",
       "      <td>EE.UU.</td>\n",
       "    </tr>\n",
       "    <tr>\n",
       "      <th>2</th>\n",
       "      <td>3</td>\n",
       "      <td>Phoenix</td>\n",
       "      <td>Arizona</td>\n",
       "      <td>EE.UU.</td>\n",
       "    </tr>\n",
       "    <tr>\n",
       "      <th>3</th>\n",
       "      <td>4</td>\n",
       "      <td>Las Vegas</td>\n",
       "      <td>Nevada</td>\n",
       "      <td>EE.UU.</td>\n",
       "    </tr>\n",
       "    <tr>\n",
       "      <th>4</th>\n",
       "      <td>5</td>\n",
       "      <td>Denver</td>\n",
       "      <td>Colorado</td>\n",
       "      <td>EE.UU.</td>\n",
       "    </tr>\n",
       "  </tbody>\n",
       "</table>\n",
       "</div>"
      ]
     },
     "execution_count": 13,
     "metadata": {},
     "output_type": "execute_result"
    }
   ],
   "execution_count": 13
  }
 ],
 "metadata": {
  "kernelspec": {
   "display_name": "Python 3",
   "language": "python",
   "name": "python3"
  },
  "language_info": {
   "codemirror_mode": {
    "name": "ipython",
    "version": 2
   },
   "file_extension": ".py",
   "mimetype": "text/x-python",
   "name": "python",
   "nbconvert_exporter": "python",
   "pygments_lexer": "ipython2",
   "version": "2.7.6"
  }
 },
 "nbformat": 4,
 "nbformat_minor": 5
}
